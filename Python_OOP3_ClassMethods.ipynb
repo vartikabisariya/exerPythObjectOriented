{
 "cells": [
  {
   "cell_type": "markdown",
   "id": "e639a9d8",
   "metadata": {
    "deletable": false,
    "editable": false,
    "nbgrader": {
     "cell_type": "markdown",
     "checksum": "6873252872f09d61bce6817136d572c0",
     "grade": false,
     "grade_id": "cell-44750e0684870e72",
     "locked": true,
     "schema_version": 3,
     "solution": false,
     "task": false
    }
   },
   "source": [
    "# Python OOP3 - classmethods and staticmethods"
   ]
  },
  {
   "cell_type": "markdown",
   "id": "8870fe4f",
   "metadata": {
    "deletable": false,
    "editable": false,
    "nbgrader": {
     "cell_type": "markdown",
     "checksum": "16b1e02a5007989b42e7b9878a402141",
     "grade": false,
     "grade_id": "cell-7a63057fdb02ab99",
     "locked": true,
     "schema_version": 3,
     "solution": false,
     "task": false
    }
   },
   "source": [
    "### Instructions\n",
    "\n",
    "* Watch the video tutorial about the os module at https://www.youtube.com/watch?v=rq8cL2XMM5M \n",
    "* Complete the programming exercises below as you go through the tutorial.\n",
    "* Delete or comment out the line of code in each cell which says `raise NotImplementedError()` and replace it with your own.\n",
    "\n",
    "### Exercises"
   ]
  },
  {
   "cell_type": "markdown",
   "id": "e9aa04df",
   "metadata": {
    "deletable": false,
    "editable": false,
    "nbgrader": {
     "cell_type": "markdown",
     "checksum": "65fb708ff4293823d2b4fb5be42642c3",
     "grade": false,
     "grade_id": "cell-70c6fe4b81223462",
     "locked": true,
     "schema_version": 3,
     "solution": false,
     "task": false
    }
   },
   "source": [
    "Write code in the cell below.\n",
    "\n",
    "* Add a new method called `set_raise_amt` with the `@classmethod` decorator.\n",
    "* Have the new method accept the parameter called `amt`.\n",
    "* Change the raise amount for the class to 1.05."
   ]
  },
  {
   "cell_type": "code",
   "execution_count": 4,
   "id": "896abe68",
   "metadata": {
    "deletable": false,
    "nbgrader": {
     "cell_type": "code",
     "checksum": "b0618de27469703caa2dc04201ce7e12",
     "grade": true,
     "grade_id": "cell-176986e2737f1b08",
     "locked": false,
     "points": 3,
     "schema_version": 3,
     "solution": true,
     "task": false
    }
   },
   "outputs": [
    {
     "name": "stdout",
     "output_type": "stream",
     "text": [
      "1.05\n",
      "1.05\n",
      "1.05\n"
     ]
    }
   ],
   "source": [
    "# YOUR CODE HERE\n",
    "\n",
    "class Employee:\n",
    "    \n",
    "    num_of_emps = 0\n",
    "    raise_amount = 1.04\n",
    "    \n",
    "    def __init__(self, first, last, pay):\n",
    "        self.first = first\n",
    "        self.last = last\n",
    "        self.pay = pay\n",
    "        self.email = first + '.' + last + '@company.com'\n",
    "        \n",
    "        Employee.num_of_emps += 1\n",
    "        \n",
    "    def fullname(self):\n",
    "        return '{} {}'.format(self.first, self.last)\n",
    "    \n",
    "    def apply_raise(self):\n",
    "        self.pay = int(self.pay * self.raise_amount)\n",
    "        \n",
    "    @classmethod\n",
    "    def set_raise_amt(cls,amount):\n",
    "        cls.raise_amt = amount\n",
    "        \n",
    "emp_1 = Employee('Corey', 'Schafer', 50000)\n",
    "emp_2 = Employee('Test', 'User', 60000)\n",
    "\n",
    "Employee.set_raise_amt(1.05)\n",
    "\n",
    "print(Employee.raise_amt)\n",
    "print(emp_1.raise_amt)\n",
    "print(emp_2.raise_amt)\n",
    "\n",
    "\n",
    "\n"
   ]
  },
  {
   "cell_type": "markdown",
   "id": "e1bbfabe",
   "metadata": {
    "deletable": false,
    "editable": false,
    "nbgrader": {
     "cell_type": "markdown",
     "checksum": "543639a80bc34d376288f300e54aab62",
     "grade": false,
     "grade_id": "cell-5dc28b705e41dd7b",
     "locked": true,
     "schema_version": 3,
     "solution": false,
     "task": false
    }
   },
   "source": [
    "Write code in the cell below.\n",
    "\n",
    "* Add a new method called `from_string` with the `@classmethod` decorator.\n",
    "* Have the new method accept the parameter called `emp_str`.\n",
    "* Have the new method split `emp_str` on the hyphen character `-`.\n",
    "* Have the new method return the new employee created from the string segments `first`, `last`, `pay`.\n",
    "* Create a new employee using the `from_string` class method.\n",
    "* Print `new_emp_1` email and pay."
   ]
  },
  {
   "cell_type": "code",
   "execution_count": 8,
   "id": "80746293",
   "metadata": {
    "deletable": false,
    "nbgrader": {
     "cell_type": "code",
     "checksum": "e1e12569104366ade746b7b623e905ba",
     "grade": true,
     "grade_id": "cell-f0a9993f9cf27528",
     "locked": false,
     "points": 3,
     "schema_version": 3,
     "solution": true,
     "task": false
    }
   },
   "outputs": [
    {
     "name": "stdout",
     "output_type": "stream",
     "text": [
      "John.Doe@company.com\n",
      "70000\n"
     ]
    }
   ],
   "source": [
    "\n",
    "# YOUR CODE HERE\n",
    "class Employee:\n",
    "    \n",
    "    num_of_emps = 0\n",
    "    raise_amount = 1.04\n",
    "    \n",
    "    def __init__(self, first, last, pay):\n",
    "        self.first = first\n",
    "        self.last = last\n",
    "        self.pay = pay\n",
    "        self.email = first + '.' + last + '@company.com'\n",
    "        \n",
    "        Employee.num_of_emps += 1\n",
    "        \n",
    "    def fullname(self):\n",
    "        return '{} {}'.format(self.first, self.last)\n",
    "    \n",
    "    def apply_raise(self):\n",
    "        self.pay = int(self.pay * self.raise_amount)\n",
    "        \n",
    "    @classmethod\n",
    "    def set_raise_amt(cls, amount):\n",
    "        cls.raise_amt = amount\n",
    "        \n",
    "    @classmethod\n",
    "    def from_string(cls, emp_str):\n",
    "        first, last, pay = emp_str.split('-')\n",
    "        return cls(first, last, pay)\n",
    "    \n",
    "emp_1 = Employee('Corey', 'Schafer', 50000)\n",
    "emp_2 = Employee('Test', 'User', 60000)\n",
    "\n",
    "emp_str_1 = 'John-Doe-70000'\n",
    "emp_str_2 = 'Steve-Smith-30000'\n",
    "emp_str_3 = 'Jane-Doe-90000'\n",
    "\n",
    "new_emp_1 = Employee.from_string(emp_str_1)\n",
    "\n",
    "print(new_emp_1.email)\n",
    "print(new_emp_1.pay)\n",
    "\n",
    "#first, last, pay = emp_str_1.split('-')\n",
    "#new_emp_1 = Employee(first, last, pay)\n",
    "#print(new_emp_1.email)\n",
    "#print(new_emp_1.pay)\n",
    "\n",
    "\n"
   ]
  },
  {
   "cell_type": "markdown",
   "id": "f1d21778",
   "metadata": {
    "deletable": false,
    "editable": false,
    "nbgrader": {
     "cell_type": "markdown",
     "checksum": "d0e462510a24c7b138da9c96c9b1371e",
     "grade": false,
     "grade_id": "cell-ea5cabb7981d349c",
     "locked": true,
     "schema_version": 3,
     "solution": false,
     "task": false
    }
   },
   "source": [
    "Write code in the cell below.\n",
    "\n",
    "* Add a new static method called `is_workday` with the `@staticmethod` decorator.\n",
    "* Have the new method accept the parameter called `day`.\n",
    "* Have the new method check if the day provided is a work day and return `False` if it is a weekend or return `True` if it is a work day.\n",
    "* Import the `datetime` module.\n",
    "* Create a variable called `my_date` which creates a date from (2016, 7, 10).\n",
    "* Print the result from the `is_workday` static method for `my_date`."
   ]
  },
  {
   "cell_type": "code",
   "execution_count": 13,
   "id": "cc3c2b09",
   "metadata": {
    "deletable": false,
    "nbgrader": {
     "cell_type": "code",
     "checksum": "967337be9f8fdf4958d6e171a78eb49f",
     "grade": true,
     "grade_id": "cell-104205922153ea8f",
     "locked": false,
     "points": 3,
     "schema_version": 3,
     "solution": true,
     "task": false
    }
   },
   "outputs": [
    {
     "name": "stdout",
     "output_type": "stream",
     "text": [
      "False\n"
     ]
    }
   ],
   "source": [
    "# YOUR CODE HERE\n",
    "class Employee:\n",
    "    \n",
    "    num_of_emps = 0\n",
    "    raise_amount = 1.04\n",
    "    \n",
    "    def __init__(self, first, last, pay):\n",
    "        self.first = first\n",
    "        self.last = last\n",
    "        self.pay = pay\n",
    "        self.email = first + '.' + last + '@company.com'\n",
    "        \n",
    "        Employee.num_of_emps += 1\n",
    "        \n",
    "    def fullname(self):\n",
    "        return '{} {}'.format(self.first, self.last)\n",
    "    \n",
    "    def apply_raise(self):\n",
    "        self.pay = int(self.pay * self.raise_amount)\n",
    "        \n",
    "    @classmethod\n",
    "    def set_raise_amt(cls, amount):\n",
    "        cls.raise_amt = amount\n",
    "        \n",
    "    @classmethod\n",
    "    def from_string(cls, emp_str):\n",
    "        first, last, pay = emp_str.split('-')\n",
    "        return cls(first, last, pay)\n",
    "    @staticmethod\n",
    "    def is_workday(day):\n",
    "        if day.weekday == 5 or day.weekday() == 6:\n",
    "            return False\n",
    "        return True\n",
    "            \n",
    "        \n",
    "emp_1 = Employee('Corey', 'Schafer', 50000)\n",
    "emp_2 = Employee('Test', 'User', 60000)\n",
    "\n",
    "import datetime\n",
    "my_date = datetime.date(2016, 7, 10)\n",
    "\n",
    "print (Employee.is_workday(my_date))\n"
   ]
  },
  {
   "cell_type": "code",
   "execution_count": null,
   "id": "7264b2b0",
   "metadata": {},
   "outputs": [],
   "source": []
  }
 ],
 "metadata": {
  "kernelspec": {
   "display_name": "Python 3 (ipykernel)",
   "language": "python",
   "name": "python3"
  },
  "language_info": {
   "codemirror_mode": {
    "name": "ipython",
    "version": 3
   },
   "file_extension": ".py",
   "mimetype": "text/x-python",
   "name": "python",
   "nbconvert_exporter": "python",
   "pygments_lexer": "ipython3",
   "version": "3.9.12"
  }
 },
 "nbformat": 4,
 "nbformat_minor": 5
}
