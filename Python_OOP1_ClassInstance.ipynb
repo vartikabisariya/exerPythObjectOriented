{
 "cells": [
  {
   "cell_type": "markdown",
   "id": "5580b135",
   "metadata": {
    "deletable": false,
    "editable": false,
    "nbgrader": {
     "cell_type": "markdown",
     "checksum": "7323ef52163e8b562e0d9a8c1b3d6aac",
     "grade": false,
     "grade_id": "cell-1fa00a9803e04b8b",
     "locked": true,
     "schema_version": 3,
     "solution": false,
     "task": false
    }
   },
   "source": [
    "# Python OOP - Classes & Instances"
   ]
  },
  {
   "cell_type": "markdown",
   "id": "4a3a5390",
   "metadata": {
    "deletable": false,
    "editable": false,
    "nbgrader": {
     "cell_type": "markdown",
     "checksum": "e8f0ab867ab4bd647dd39c5c6b7fadf7",
     "grade": false,
     "grade_id": "cell-6f94ae788ce82371",
     "locked": true,
     "schema_version": 3,
     "solution": false,
     "task": false
    }
   },
   "source": [
    "### Instructions\n",
    "\n",
    "* Watch the video tutorial about the os module at https://www.youtube.com/watch?v=ZDa-Z5JzLYM \n",
    "* Complete the programming exercises below as you go through the tutorial.\n",
    "* Delete or comment out the line of code in each cell which says `raise NotImplementedError()` and replace it with your own.\n",
    "\n",
    "### Exercises"
   ]
  },
  {
   "cell_type": "markdown",
   "id": "fa06a6c2",
   "metadata": {
    "deletable": false,
    "editable": false,
    "nbgrader": {
     "cell_type": "markdown",
     "checksum": "d1fec1c20c2baf091dcc2554aa0fbf2b",
     "grade": false,
     "grade_id": "cell-9f01afc8955ef721",
     "locked": true,
     "schema_version": 3,
     "solution": false,
     "task": false
    }
   },
   "source": [
    "Write code in the cell below.\n",
    "\n",
    "* Create a class called `Employee`.\n",
    "* Add a `pass` statement in the class."
   ]
  },
  {
   "cell_type": "code",
   "execution_count": 4,
   "id": "7c931a63",
   "metadata": {
    "deletable": false,
    "nbgrader": {
     "cell_type": "code",
     "checksum": "4c95a1a2572bf9a522d45696606cde83",
     "grade": true,
     "grade_id": "cell-3cb9b160a89bc507",
     "locked": false,
     "points": 1,
     "schema_version": 3,
     "solution": true,
     "task": false
    }
   },
   "outputs": [],
   "source": [
    "\n",
    "# YOUR CODE HERE\n",
    "class Employee:\n",
    "    pass"
   ]
  },
  {
   "cell_type": "markdown",
   "id": "5c2dd8ad",
   "metadata": {
    "deletable": false,
    "editable": false,
    "nbgrader": {
     "cell_type": "markdown",
     "checksum": "412fa02c604f0811b191bb1ef7d2cb39",
     "grade": false,
     "grade_id": "cell-3fa1920b87e1a57a",
     "locked": true,
     "schema_version": 3,
     "solution": false,
     "task": false
    }
   },
   "source": [
    "Write code in the cell below.\n",
    "\n",
    "* Create an instance of class `Employee` called `emp_1`.\n",
    "* Create an instance of class `Employee` called `emp_2`.\n",
    "* Print the instance variables for both instances.\n",
    "* Add the following attributes to `emp_1` using separate lines of code.\n",
    "  * .first = 'Corey'\n",
    "  * .last = 'Schafer'\n",
    "  * .email = 'Corey.Schafer@company.com'\n",
    "  * .pay = 50000\n",
    "* Add the following attributes to `emp_2` using separate lines of code.\n",
    "  * .first = 'Test'\n",
    "  * .last = 'User'\n",
    "  * .email = 'Test.User@company.com'\n",
    "  * .pay = 60000\n",
    "* Print the email for `emp_1` and `emp_2`."
   ]
  },
  {
   "cell_type": "code",
   "execution_count": 6,
   "id": "51f11a87",
   "metadata": {
    "deletable": false,
    "nbgrader": {
     "cell_type": "code",
     "checksum": "8c0e19d6d41e1f2f6b52c6edfbdb4fd7",
     "grade": true,
     "grade_id": "cell-2647590c66a8a312",
     "locked": false,
     "points": 3,
     "schema_version": 3,
     "solution": true,
     "task": false
    }
   },
   "outputs": [
    {
     "name": "stdout",
     "output_type": "stream",
     "text": [
      "<__main__.Employee object at 0x7ffebf266e20>\n",
      "<__main__.Employee object at 0x7ffebf45fe50>\n",
      "Corey.Schafer@company.com\n",
      "Test.User@company.com\n"
     ]
    }
   ],
   "source": [
    "\n",
    "# YOUR CODE HERE\n",
    "class Employee:\n",
    "    pass\n",
    "emp_1 = Employee()\n",
    "emp_2 = Employee()\n",
    "\n",
    "print (emp_1)\n",
    "print (emp_2)\n",
    "\n",
    "emp_1.first = 'Corey'\n",
    "emp_1.last = 'Schafer'\n",
    "emp_1.email ='Corey.Schafer@company.com'\n",
    "emp_1.pay = 50000\n",
    "\n",
    "emp_2.first = 'Test'\n",
    "emp_2.last = 'User'\n",
    "emp_2.email = 'Test.User@company.com'\n",
    "emp_2.pay = 60000\n",
    "\n",
    "print (emp_1.email)\n",
    "print (emp_2.email)\n"
   ]
  },
  {
   "cell_type": "markdown",
   "id": "a3fe2fb6",
   "metadata": {
    "deletable": false,
    "editable": false,
    "nbgrader": {
     "cell_type": "markdown",
     "checksum": "8953774b9490a6623232974273454efa",
     "grade": false,
     "grade_id": "cell-479bb39fefd610e5",
     "locked": true,
     "schema_version": 3,
     "solution": false,
     "task": false
    }
   },
   "source": [
    "Write code in the cell below.\n",
    "\n",
    "* Create a class called `Employee`.\n",
    "* Add an init method.\n",
    "* Accept `first`, `last`, and `pay` in the init method.\n",
    "* Set all the instance variables in your init method.\n",
    "* Set the email using `first`, `last`, and `@company.com`."
   ]
  },
  {
   "cell_type": "code",
   "execution_count": 8,
   "id": "2968735c",
   "metadata": {
    "deletable": false,
    "nbgrader": {
     "cell_type": "code",
     "checksum": "9b57e54c006649bdef74a02d1c2d9065",
     "grade": true,
     "grade_id": "cell-45ab345e38937b05",
     "locked": false,
     "points": 2,
     "schema_version": 3,
     "solution": true,
     "task": false
    }
   },
   "outputs": [],
   "source": [
    "\n",
    "# YOUR CODE HERE\n",
    "class Employee:\n",
    "    def __init__(self, first, last, pay):\n",
    "        self.first = first\n",
    "        self.last = last\n",
    "        self.pay = pay\n",
    "        self.email = first+ '.' + last +'@company.com'\n",
    "        \n",
    "        \n",
    "  \n",
    "\n"
   ]
  },
  {
   "cell_type": "markdown",
   "id": "1ad34773",
   "metadata": {
    "deletable": false,
    "editable": false,
    "nbgrader": {
     "cell_type": "markdown",
     "checksum": "c68d421f93b35400b4b1e166fd45a2ab",
     "grade": false,
     "grade_id": "cell-064992568b084972",
     "locked": true,
     "schema_version": 3,
     "solution": false,
     "task": false
    }
   },
   "source": [
    "Write code in the cell below.\n",
    "\n",
    "* Create an instance of class `Employee` called `emp_1` and pass the input `('Corey', 'Schafer', 50000)`.\n",
    "* Create an instance of class `Employee` called `emp_2` and pass the input `('Test', 'User', 60000)`.\n",
    "* Print the email for both employees.\n",
    "* Print the full name for `emp_1`."
   ]
  },
  {
   "cell_type": "code",
   "execution_count": 9,
   "id": "c9976e13",
   "metadata": {
    "deletable": false,
    "nbgrader": {
     "cell_type": "code",
     "checksum": "5607e4a88592de9eb0b979a481671d26",
     "grade": true,
     "grade_id": "cell-2bc19719477ebc4c",
     "locked": false,
     "points": 2,
     "schema_version": 3,
     "solution": true,
     "task": false
    }
   },
   "outputs": [
    {
     "name": "stdout",
     "output_type": "stream",
     "text": [
      "Corey.Schafer@company.com\n",
      "Test.User@company.com\n",
      "Corey Schafer\n"
     ]
    }
   ],
   "source": [
    "\n",
    "# YOUR CODE HERE\n",
    "class Employee:\n",
    "    def __init__(self, first, last, pay):\n",
    "        self.first = first\n",
    "        self.last = last\n",
    "        self.pay = pay\n",
    "        self.email = first+ '.' + last +'@company.com'\n",
    "emp_1 = Employee('Corey', 'Schafer', 50000)\n",
    "emp_2 = Employee('Test', 'User', 60000)\n",
    "print (emp_1.email)\n",
    "print (emp_2.email)\n",
    "print ('{} {}'. format(emp_1.first, emp_1.last))\n"
   ]
  },
  {
   "cell_type": "markdown",
   "id": "41afccbc",
   "metadata": {
    "deletable": false,
    "editable": false,
    "nbgrader": {
     "cell_type": "markdown",
     "checksum": "5b50a0b4ad21ba1728a1729b8f48017e",
     "grade": false,
     "grade_id": "cell-cbc2a2255f826b57",
     "locked": true,
     "schema_version": 3,
     "solution": false,
     "task": false
    }
   },
   "source": [
    "Write code in the cell below.\n",
    "\n",
    "* Copy your Employee class with all the self statements into the cell below. You're going to add a method to it.\n",
    "* Add a method called `fullname`."
   ]
  },
  {
   "cell_type": "code",
   "execution_count": 12,
   "id": "e0bcd0ba",
   "metadata": {
    "deletable": false,
    "nbgrader": {
     "cell_type": "code",
     "checksum": "e37bfa50886636183f2b7c9d706e19c4",
     "grade": true,
     "grade_id": "cell-173387293667a181",
     "locked": false,
     "points": 2,
     "schema_version": 3,
     "solution": true,
     "task": false
    }
   },
   "outputs": [],
   "source": [
    "\n",
    "# YOUR CODE HERE\n",
    "class Employee:\n",
    "    def __init__(self, first, last, pay):\n",
    "        self.first = first\n",
    "        self.last = last\n",
    "        self.pay = pay\n",
    "        self.email = first+ '.' + last +'@company.com'\n",
    "        \n",
    "    def fullname():\n",
    "        return '{} {}'.format(self.first, self.last)\n",
    "    \n",
    "\n"
   ]
  },
  {
   "cell_type": "markdown",
   "id": "aead4033",
   "metadata": {
    "deletable": false,
    "editable": false,
    "nbgrader": {
     "cell_type": "markdown",
     "checksum": "d80481c0c29b9aaf795633f10372a72e",
     "grade": false,
     "grade_id": "cell-f1ff113bdb790426",
     "locked": true,
     "schema_version": 3,
     "solution": false,
     "task": false
    }
   },
   "source": [
    "Write code in the cell below.\n",
    "\n",
    "* Create an instance of class `Employee` called `emp_1` and pass the input `('Corey', 'Schafer', 50000)`.\n",
    "* Create an instance of class `Employee` called `emp_2` and pass the input `('Test', 'User', 60000)`.\n",
    "* Print the full name for both employees using your new method (with the parentheses).\n",
    "* Print the full name for both employees using the class and passing the instance."
   ]
  },
  {
   "cell_type": "code",
   "execution_count": 13,
   "id": "b363d0ac",
   "metadata": {
    "deletable": false,
    "nbgrader": {
     "cell_type": "code",
     "checksum": "85f888973c2593c8a8463a37db55a1f5",
     "grade": true,
     "grade_id": "cell-0ab4a8f7776165df",
     "locked": false,
     "points": 2,
     "schema_version": 3,
     "solution": true,
     "task": false
    }
   },
   "outputs": [
    {
     "name": "stdout",
     "output_type": "stream",
     "text": [
      "Corey Schafer\n",
      "Corey Schafer\n"
     ]
    }
   ],
   "source": [
    "# You may need to create the instances again after adding a method to your class.\n",
    "# I pasted the code here.\n",
    "emp_1 = Employee('Corey', 'Schafer', 50000)\n",
    "emp_2 = Employee('Test', 'User', 60000)\n",
    "\n",
    "# YOUR CODE HERE\n",
    "class Employee:\n",
    "    def __init__(self, first, last, pay):\n",
    "        self.first = first\n",
    "        self.last = last\n",
    "        self.pay = pay\n",
    "        self.email = first+ '.' + last +'@company.com'\n",
    "        \n",
    "    def fullname(self):\n",
    "        return '{} {}'.format(self.first, self.last)\n",
    "\n",
    "emp_1 = Employee('Corey', 'Schafer', 50000)\n",
    "emp_2 = Employee('Test', 'User', 60000)\n",
    "\n",
    "print (emp_1.fullname())\n",
    "print(Employee.fullname(emp_1)) \n",
    "\n",
    "    "
   ]
  },
  {
   "cell_type": "code",
   "execution_count": null,
   "id": "02a9962b",
   "metadata": {},
   "outputs": [],
   "source": []
  }
 ],
 "metadata": {
  "kernelspec": {
   "display_name": "Python 3 (ipykernel)",
   "language": "python",
   "name": "python3"
  },
  "language_info": {
   "codemirror_mode": {
    "name": "ipython",
    "version": 3
   },
   "file_extension": ".py",
   "mimetype": "text/x-python",
   "name": "python",
   "nbconvert_exporter": "python",
   "pygments_lexer": "ipython3",
   "version": "3.9.12"
  }
 },
 "nbformat": 4,
 "nbformat_minor": 5
}
